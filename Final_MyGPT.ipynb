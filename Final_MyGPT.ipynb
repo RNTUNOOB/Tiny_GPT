{
  "nbformat": 4,
  "nbformat_minor": 0,
  "metadata": {
    "colab": {
      "provenance": [],
      "collapsed_sections": [
        "Vn-GL3Z_T4gw",
        "S4KTw47ST86h",
        "OfUYhbodgP_B",
        "q6rZmKWnUCsf",
        "4MDI_l9CgkaQ",
        "ji86OB-OraaC",
        "zoWJFZSM_8Lf"
      ],
      "gpuType": "T4",
      "authorship_tag": "ABX9TyPXX8A0rW86gLD+k8sGYTX7",
      "include_colab_link": true
    },
    "kernelspec": {
      "name": "python3",
      "display_name": "Python 3"
    },
    "language_info": {
      "name": "python"
    },
    "accelerator": "GPU"
  },
  "cells": [
    {
      "cell_type": "markdown",
      "metadata": {
        "id": "view-in-github",
        "colab_type": "text"
      },
      "source": [
        "<a href=\"https://colab.research.google.com/github/RNTUNOOB/Tiny_GPT/blob/main/Final_MyGPT.ipynb\" target=\"_parent\"><img src=\"https://colab.research.google.com/assets/colab-badge.svg\" alt=\"Open In Colab\"/></a>"
      ]
    },
    {
      "cell_type": "code",
      "execution_count": 1,
      "metadata": {
        "colab": {
          "base_uri": "https://localhost:8080/"
        },
        "id": "OgITXcNg4Hbd",
        "outputId": "73047d21-323f-4f64-f90d-faf7c4e8100d"
      },
      "outputs": [
        {
          "output_type": "stream",
          "name": "stdout",
          "text": [
            "--2024-02-19 11:15:37--  https://raw.githubusercontent.com/karpathy/char-rnn/master/data/tinyshakespeare/input.txt\n",
            "Resolving raw.githubusercontent.com (raw.githubusercontent.com)... 185.199.108.133, 185.199.109.133, 185.199.110.133, ...\n",
            "Connecting to raw.githubusercontent.com (raw.githubusercontent.com)|185.199.108.133|:443... connected.\n",
            "HTTP request sent, awaiting response... 200 OK\n",
            "Length: 1115394 (1.1M) [text/plain]\n",
            "Saving to: ‘input.txt’\n",
            "\n",
            "input.txt           100%[===================>]   1.06M  --.-KB/s    in 0.01s   \n",
            "\n",
            "2024-02-19 11:15:37 (101 MB/s) - ‘input.txt’ saved [1115394/1115394]\n",
            "\n"
          ]
        }
      ],
      "source": [
        "!wget https://raw.githubusercontent.com/karpathy/char-rnn/master/data/tinyshakespeare/input.txt"
      ]
    },
    {
      "cell_type": "code",
      "source": [
        "import torch\n",
        "import torch.nn as nn\n",
        "from torch.nn import functional as F\n",
        "from tqdm import tqdm"
      ],
      "metadata": {
        "id": "883qWxdpNlxy"
      },
      "execution_count": 2,
      "outputs": []
    },
    {
      "cell_type": "code",
      "source": [
        "# hyperparameter\n",
        "\n",
        "blocksize = 64  # context length\n",
        "batchsize = 64\n",
        "max_iters = 2500\n",
        "eval_interval = 500\n",
        "eval_iter = 200\n",
        "lr = 3e-3\n",
        "n_embed = 384\n",
        "n_layer = 6\n",
        "n_heads = 6\n",
        "dropout = 0.2\n",
        "\n",
        "torch.manual_seed = 1337\n",
        "\n",
        "device = 'cuda' if torch.cuda.is_available() else 'cpu'"
      ],
      "metadata": {
        "id": "yV2rZI7Hfc6I"
      },
      "execution_count": 3,
      "outputs": []
    },
    {
      "cell_type": "code",
      "source": [
        "with open('input.txt', 'r', encoding=\"utf-8\") as f:\n",
        "    text = f.read()"
      ],
      "metadata": {
        "id": "6Zyuy9k-fc3v"
      },
      "execution_count": 4,
      "outputs": []
    },
    {
      "cell_type": "code",
      "source": [
        "chars = sorted(list(set(text)))\n",
        "vocab_size = len(chars)\n",
        "# this is character level tokenizor\n",
        "stoi = {s: i for i, s in enumerate(chars)}\n",
        "itos = {i: s for i, s in enumerate(chars)}\n",
        "encode = lambda s: [stoi[i] for i in s]\n",
        "decode = lambda l: \"\".join([itos[i] for i in l])"
      ],
      "metadata": {
        "id": "uNGVqWQbfcx3"
      },
      "execution_count": 5,
      "outputs": []
    },
    {
      "cell_type": "code",
      "source": [
        "#test train split\n",
        "data = torch.tensor(encode(text))\n",
        "n = int(0.9 * len(data))\n",
        "train = data[:n]\n",
        "test = data[n:]"
      ],
      "metadata": {
        "id": "8xGkwcMqfcvf"
      },
      "execution_count": 6,
      "outputs": []
    },
    {
      "cell_type": "code",
      "source": [
        "def get_batch(split=0):\n",
        "    local_data = train if split == 0 else test\n",
        "    ix = torch.randint(len(local_data) - blocksize, (batchsize,))\n",
        "    ixb = torch.stack([local_data[i:i + blocksize] for i in ix])\n",
        "    iyb = torch.stack([local_data[i + 1:i + blocksize + 1] for i in ix])\n",
        "    ixb, iyb = ixb.to(device), iyb.to(device)\n",
        "    return ixb, iyb"
      ],
      "metadata": {
        "id": "vGQVJ-ZcfuFY"
      },
      "execution_count": 7,
      "outputs": []
    },
    {
      "cell_type": "code",
      "source": [
        "@torch.no_grad()\n",
        "def estimate_loss():\n",
        "    out = {}\n",
        "    bi_model.eval()\n",
        "    for split, split_name in enumerate(['train', 'val']):\n",
        "        losses = torch.zeros(eval_iter)\n",
        "        for k in range(eval_iter):\n",
        "            X, Y = get_batch(split)\n",
        "            logits, loss = bi_model(X, Y)\n",
        "            losses[k] =  loss.item()\n",
        "        out[split_name] = losses.mean()\n",
        "    bi_model.train()\n",
        "    return out"
      ],
      "metadata": {
        "id": "imtPJVqIfuDp"
      },
      "execution_count": 8,
      "outputs": []
    },
    {
      "cell_type": "code",
      "source": [
        "# implementing a simple one head of self attention\n",
        "\n",
        "class Head(nn.Module):\n",
        "\n",
        "  def __init__(self, head_size):\n",
        "    super().__init__()\n",
        "    self.key = nn.Linear(n_embed, head_size, bias = False)\n",
        "    self.query = nn.Linear(n_embed, head_size, bias = False)\n",
        "    self.value = nn.Linear(n_embed, head_size, bias = False)\n",
        "    self.register_buffer('tril', torch.tril(torch.ones(blocksize, blocksize)))\n",
        "    self.Dropout = nn.Dropout(dropout)\n",
        "\n",
        "  def forward(self,x):\n",
        "    B, T, C = x.shape\n",
        "    k = self.key(x)\n",
        "    q = self.query(x)\n",
        "    v = self.value(x)\n",
        "\n",
        "    wei = q @ k.transpose(-2,-1) * C ** -0.5  # (B, T, C) @ (B, C, T) --> (B, T, T)\n",
        "    # wei.masked_fill(self.tril[:T, :T]==0, float('-inf'))     --------> Error to reember for life, fkn hell\n",
        "    wei = wei.masked_fill(self.tril[:T, :T]==0, float('-inf'))\n",
        "    wei = F.softmax(wei, dim=-1)  # (B, T, T)\n",
        "    wei = self.Dropout(wei)\n",
        "\n",
        "    out = wei @ v  # (B, T, T) @ (B, T, C) --> (B, T, C)\n",
        "\n",
        "    return out"
      ],
      "metadata": {
        "id": "4pyPq1MliFtk"
      },
      "execution_count": 9,
      "outputs": []
    },
    {
      "cell_type": "code",
      "source": [
        "class mul_head(nn.Module):\n",
        "\n",
        "  def __init__(self, n_heads, head_size):\n",
        "    super().__init__()\n",
        "    self.heads = nn.ModuleList([Head(head_size) for _ in range(n_heads)])\n",
        "    self.proj = nn.Linear(n_heads * head_size, n_embed)\n",
        "    self.Dropout = nn.Dropout(dropout)\n",
        "\n",
        "  def forward(self, x):\n",
        "    out = torch.cat([h(x) for h in self.heads], dim=-1)\n",
        "    out = self.Dropout(self.proj(out))\n",
        "    return out"
      ],
      "metadata": {
        "id": "s2JTJfTFh-KR"
      },
      "execution_count": 10,
      "outputs": []
    },
    {
      "cell_type": "code",
      "source": [
        "class feed_forward(nn.Module):\n",
        "\n",
        "  def __init__(self, n_embed):\n",
        "    super().__init__()\n",
        "    self.net = nn.Sequential(\n",
        "        nn.Linear(n_embed, 4 * n_embed),  # here, according to paper, expected output is 4 times the input. so we nulitply it by 8\n",
        "        nn.ReLU(),\n",
        "        nn.Linear(4 * n_embed, n_embed),\n",
        "        nn.Dropout(dropout),\n",
        "    )\n",
        "\n",
        "  def forward(self, x):\n",
        "    return self.net(x)"
      ],
      "metadata": {
        "id": "z8Ru2TtK-ldp"
      },
      "execution_count": 11,
      "outputs": []
    },
    {
      "cell_type": "code",
      "source": [
        "class Block(nn.Module):\n",
        "\n",
        "  def __init__(self, n_embed, n_heads):\n",
        "    super().__init__()\n",
        "    head_size = n_embed // n_heads\n",
        "    self.sa = mul_head(n_heads, head_size)\n",
        "    self.ffd = feed_forward(n_embed)\n",
        "    self.ln1 = nn.LayerNorm(n_embed)\n",
        "    self.ln2 = nn.LayerNorm(n_embed)\n",
        "\n",
        "  def forward(self, x):\n",
        "    x = x + self.sa(self.ln1(x))\n",
        "    x = x + self.ffd(self.ln2(x))\n",
        "    return x"
      ],
      "metadata": {
        "id": "crnhjprlBvCV"
      },
      "execution_count": 12,
      "outputs": []
    },
    {
      "cell_type": "code",
      "source": [
        "class BigramLanguageModel(nn.Module):\n",
        "\n",
        "    def __init__(self):\n",
        "        super().__init__()\n",
        "        self.token_embedding_table = nn.Embedding(vocab_size, n_embed)\n",
        "        self.position_embedding_table = nn.Embedding(blocksize, n_embed)\n",
        "        self.block = nn.Sequential(*[Block(n_embed, n_heads = n_heads) for _ in range(n_layer)])\n",
        "        self.lnf = nn.LayerNorm(n_embed)\n",
        "        self.lm_head = nn.Linear(n_embed, vocab_size)\n",
        "\n",
        "    def forward(self, idx, targets=None):\n",
        "        B,  T = idx.shape\n",
        "\n",
        "        tok_emb = self.token_embedding_table(idx)  # (B, T, C)\n",
        "        pos_emb = self.position_embedding_table(torch.arange(T, device=device))  # (T, C)\n",
        "        x = tok_emb + pos_emb\n",
        "        x = self.block(x)\n",
        "        x = self.lnf(x)\n",
        "        logits = self.lm_head(x)  # (B, T, vocab_size)\n",
        "\n",
        "        if targets == None:\n",
        "            loss = None\n",
        "        else:\n",
        "            B, T, C = logits.shape\n",
        "            logits = logits.view(B * T, C)\n",
        "            targets = targets.view(B * T)\n",
        "\n",
        "            loss = F.cross_entropy(logits, targets)\n",
        "\n",
        "        return logits, loss\n",
        "\n",
        "    def generate(self, idx, max_new_tokens):\n",
        "        for _ in range(max_new_tokens):\n",
        "          # as we have implemented pos embded. we cannot have idx greater than block size, so must crop it if it bigger\n",
        "          idx_cond = idx[:, -blocksize:]\n",
        "\n",
        "          logits, loss = self(idx_cond)\n",
        "          logits = logits[:, -1, :]  # becomes (B, C)\n",
        "          probs = F.softmax(logits, dim=-1)  # (B, C)\n",
        "          idx_next = torch.multinomial(probs, num_samples=1)  # (B,1)\n",
        "          idx = torch.cat((idx, idx_next), dim=1)  # (B, T+1)\n",
        "\n",
        "        return idx"
      ],
      "metadata": {
        "id": "2515Ao-gfuBZ"
      },
      "execution_count": 13,
      "outputs": []
    },
    {
      "cell_type": "code",
      "source": [
        "bi_model = BigramLanguageModel()\n",
        "m = bi_model.to(device)\n",
        "optimizer = torch.optim.AdamW(bi_model.parameters(), lr=lr)"
      ],
      "metadata": {
        "id": "aPEqPmIKft_C"
      },
      "execution_count": 14,
      "outputs": []
    },
    {
      "cell_type": "code",
      "source": [
        "for iter in tqdm(range(max_iters)):\n",
        "\n",
        "    # every once in a while, we calculate loss\n",
        "    if iter%eval_interval == 0:\n",
        "        losses = estimate_loss()\n",
        "        print(f\"step {iter}: train loss = {losses['train']:.4f}, val loss: {losses['val']:.4f}\")\n",
        "\n",
        "    # generating a sample batch\n",
        "    xb, yb = get_batch()\n",
        "\n",
        "    # evaluate the loss\n",
        "    logits, loss = bi_model(xb, yb)\n",
        "    optimizer.zero_grad(set_to_none=True)\n",
        "    loss.backward()\n",
        "    optimizer.step()"
      ],
      "metadata": {
        "colab": {
          "base_uri": "https://localhost:8080/"
        },
        "id": "06nmkLFNfctO",
        "outputId": "88cea47c-6dcc-4843-bac7-646a1417ed94"
      },
      "execution_count": 15,
      "outputs": [
        {
          "output_type": "stream",
          "name": "stderr",
          "text": [
            "\r  0%|          | 0/2500 [00:00<?, ?it/s]"
          ]
        },
        {
          "output_type": "stream",
          "name": "stdout",
          "text": [
            "step 0: train loss = 4.2857, val loss: 4.2874\n"
          ]
        },
        {
          "output_type": "stream",
          "name": "stderr",
          "text": [
            " 20%|██        | 502/2500 [01:20<1:17:13,  2.32s/it]"
          ]
        },
        {
          "output_type": "stream",
          "name": "stdout",
          "text": [
            "step 500: train loss = 2.0725, val loss: 2.1294\n"
          ]
        },
        {
          "output_type": "stream",
          "name": "stderr",
          "text": [
            " 40%|████      | 1002/2500 [02:30<1:20:50,  3.24s/it]"
          ]
        },
        {
          "output_type": "stream",
          "name": "stdout",
          "text": [
            "step 1000: train loss = 1.8004, val loss: 1.9480\n"
          ]
        },
        {
          "output_type": "stream",
          "name": "stderr",
          "text": [
            " 60%|██████    | 1502/2500 [03:39<53:47,  3.23s/it]  "
          ]
        },
        {
          "output_type": "stream",
          "name": "stdout",
          "text": [
            "step 1500: train loss = 1.6568, val loss: 1.8277\n"
          ]
        },
        {
          "output_type": "stream",
          "name": "stderr",
          "text": [
            " 80%|████████  | 2002/2500 [04:49<26:58,  3.25s/it]"
          ]
        },
        {
          "output_type": "stream",
          "name": "stdout",
          "text": [
            "step 2000: train loss = 1.6105, val loss: 1.7944\n"
          ]
        },
        {
          "output_type": "stream",
          "name": "stderr",
          "text": [
            "100%|██████████| 2500/2500 [05:43<00:00,  7.28it/s]\n"
          ]
        }
      ]
    },
    {
      "cell_type": "code",
      "source": [
        "context = torch.zeros((1,1), dtype=torch.long, device = device)\n",
        "print(decode(bi_model.generate(context, max_new_tokens=500)[0].tolist()))"
      ],
      "metadata": {
        "id": "QfdvrLBQlz4-",
        "colab": {
          "base_uri": "https://localhost:8080/"
        },
        "outputId": "b0200970-5289-4078-ba98-2abbc3e5d5d3"
      },
      "execution_count": 16,
      "outputs": [
        {
          "output_type": "stream",
          "name": "stdout",
          "text": [
            "\n",
            "And my send officenton to plimage;\n",
            "And with him the drangly sirth.\n",
            "Towar\n",
            "A thy hie the his wadam and by ot affices but fies,\n",
            "Keepter.\n",
            "\n",
            "Lord No him.\n",
            "\n",
            "GLOUCESTER:\n",
            "A too tell:\n",
            "Auffer, the paint touck my crown wearied,\n",
            "And be brave, her wrone that of your nor out knought him,\n",
            "Peake the ever be to knight Richmes to else in't to bootning. And so n in est\n",
            "That perpoke of himselfore, son-chorpards soul'stance,\n",
            "As, but my more then mistrengues at one too there-tods Estabbedier's the pqueth,\n",
            "And sweep a p\n"
          ]
        }
      ]
    }
  ]
}